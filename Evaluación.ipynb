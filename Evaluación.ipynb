{
 "cells": [
  {
   "cell_type": "code",
   "execution_count": 93,
   "metadata": {},
   "outputs": [],
   "source": [
    "#creo una clase llamada TiendaOnline\n",
    "class TiendaOnline:\n",
    "    def __init__(self): \n",
    "        self.inventario = [] \n",
    "        self.clientes = {}  \n",
    "        self.ventas_totales = 0.0 \n",
    "    #1) creo método agregar_producto para agregar productos al inventario o actualizar su cantidad si ya existe.\n",
    "    def agregar_producto(self, nombre, precio, cantidad): \n",
    "        nombre = nombre.lower() \n",
    "        for producto in self.inventario: \n",
    "            if producto[\"nombre\"] == nombre: \n",
    "                producto[\"cantidad\"] += cantidad \n",
    "                break \n",
    "        else: \n",
    "            nuevo_producto = {\"nombre\": nombre, \"precio\": precio, \"cantidad\": cantidad} \n",
    "            self.inventario.append(nuevo_producto) \n",
    "    #2) creo el metodo que permitirá visualizar el inventario y sus detalles.\n",
    "    def ver_inventario(self):\n",
    "        for producto in self.inventario: \n",
    "            print(\"Nombre:\", producto[\"nombre\"], \"Precio: $\", producto[\"precio\"], \"Cantidad:\", producto[\"cantidad\"])\n",
    "    #3) creo el método que permitirá buscar un producto en el inventario y mostrar sus detalles si se encuentra, usamos el nombre del producto como parámetro.\n",
    "    def buscar_producto(self, nombre):\n",
    "        nombre = nombre.lower() \n",
    "        for producto in self.inventario: \n",
    "            if producto[\"nombre\"] == nombre:\n",
    "                print(\"Nombre:\", producto[\"nombre\"], \", Precio: $\", producto[\"precio\"], \", Cantidad:\", producto[\"cantidad\"]) \n",
    "                break \n",
    "        else: \n",
    "            print(\"Este producto no se encuentra en el inventario.\") \n",
    "    #4) creo el método que permitirá actualizar el stock de un producto en el inventario.\n",
    "    def actualizar_stock(self, nombre, cantidad):\n",
    "        nombre = nombre.lower() \n",
    "        for producto in self.inventario: \n",
    "            if producto[\"nombre\"] == nombre: \n",
    "                producto[\"cantidad\"] += cantidad \n",
    "                print(\"Stock actualizado para el producto\", nombre, \"en el inventario.\") \n",
    "                break \n",
    "        else: \n",
    "            print(\"Producto no encontrado en el inventario.\") \n",
    "    #5) Creo metodo para eliminar un producto del inventario por su nombre.\n",
    "    def eliminar_producto(self, nombre):\n",
    "        nombre = nombre.lower() \n",
    "        for producto in self.inventario: \n",
    "            if producto[\"nombre\"] == nombre: \n",
    "                self.inventario.remove(producto) \n",
    "                print(\"El producto\", nombre, \" ha sido eliminado del inventario.\") \n",
    "                break \n",
    "        else: \n",
    "            print(\"Producto no encontrado en el inventario.\") \n",
    "    #6) creo metodo para calcular el valor total del inventario   \n",
    "    def calcular_valor_inventario(self):\n",
    "        valor_total = 0 \n",
    "        for producto in self.inventario: \n",
    "            valor_total += producto[\"precio\"] * producto[\"cantidad\"] \n",
    "        print(\"El valor total del inventario es: $\", valor_total)  \n",
    "    #7) creo el método que busca productos en el inventario que coincidan con un patrón de búsqueda en formato regex en el nombre y muestra los resultados.\n",
    "    def buscar_producto_regex(self, patron):\n",
    "        productos_encontrados = [] \n",
    "        patron = patron.lower() \n",
    "        for producto in self.inventario: \n",
    "            if patron in producto[\"nombre\"]: \n",
    "                productos_encontrados.append(producto) \n",
    "        if productos_encontrados: \n",
    "            print(\"Se han encontrado productos que coinciden con el patron:\", patron)\n",
    "            for producto in productos_encontrados: \n",
    "                print(\"Nombre:\", producto[\"nombre\"], \", Precio: $\", producto[\"precio\"], \", Unidades:\", producto[\"cantidad\"])\n",
    "        else: \n",
    "            print(\"No se han encontrado productos que coincidan con el patron:\", patron)\n",
    "    \n",
    "    #8) creo el método que permite a un cliente realizar una compra seleccionando productos del inventario.\n",
    "    def realizar_compra(self):\n",
    "        carrito = [] \n",
    "        continuar_comprando = True \n",
    "        total_compra = 0 \n",
    "        print(\"Productos:\")\n",
    "        self.ver_inventario() \n",
    "        while continuar_comprando: \n",
    "            nombre_producto = input(\"Introduce el nombre del producto que quieres comprar:  (para terminar la compra introduce Finalizar)\").lower() \n",
    "            if \"finalizar\" == nombre_producto: \n",
    "                print(\"Resumen de tu compra: \") \n",
    "                for producto in carrito: \n",
    "                    print(\"Producto:\" ,producto['nombre'], \", Precio: $\", producto['precio'],\", Unidades:\", producto['cantidad'] )\n",
    "                    print(\"El precio de tu compra es : \",total_compra) \n",
    "                continuar_comprando = False \n",
    "                break \n",
    "            for producto in self.inventario: \n",
    "                if producto[\"nombre\"] == nombre_producto: \n",
    "                    cantidad = int(input(\"Introduce el numero de unidades que quieres comprar: \"))\n",
    "                    if cantidad <= producto[\"cantidad\"]: \n",
    "                        producto_en_carrito = producto.copy() \n",
    "                        producto_en_carrito[\"cantidad\"] = cantidad \n",
    "                        carrito.append(producto_en_carrito) \n",
    "                        producto[\"cantidad\"] -= cantidad\n",
    "                        total_compra += producto[\"precio\"] * cantidad \n",
    "                        print(\"Producto añadido al carrito.\")\n",
    "                        break\n",
    "                    else: \n",
    "                        print(\"No hay suficiente stock disponible para el producto seleccionado.\")\n",
    "                     \n",
    "                    break\n",
    "        return total_compra\n",
    "    \n",
    "    #9) creo método para procesar el pago de una compra, calcula el cambio y mostrar un mensaje de confirmación\n",
    "    def procesar_pago(self):\n",
    "        try:\n",
    "            cantidad_a_pagar = float(input(\"Introduce el precio total de tu carrito: \"))\n",
    "            cantidad_pago = float(input(\"Introduce la cantidad que entregas como pago: \"))\n",
    "            if cantidad_pago >= cantidad_a_pagar:\n",
    "                cambio = cantidad_pago - cantidad_a_pagar\n",
    "                print(\"Pago aceptado. Tu cambio es: $\", cambio)\n",
    "            else:\n",
    "                print(\"Error: La cantidad introducida no es suficiente.\")\n",
    "        except ValueError:\n",
    "            print(\"Error: Introduce valores numéricos válidos para el precio total y la cantidad de pago.\")\n",
    "    #10) creo método para agregar un nuevo cliente al registro de clientes.\n",
    "    def agregar_clientes(self, nombre, email):\n",
    "        if nombre in self.clientes:\n",
    "          print(\"Cliente ya está registrado.\")\n",
    "        else:\n",
    "            self.clientes[nombre] = {\"nombre\": nombre,\"email\": email, \"historial_compras\":[]}\n",
    "    #11) creo método que muestra la lista de clientes registrados con sus nombres y correos electronicos\n",
    "    def ver_clientes(self):\n",
    "        for nombre, email in self.clientes.items():\n",
    "            print(\"Nombre:\",nombre, \"Email:\", email[\"email\"])\n",
    "    #12) creo método que Registra una compra para un cliente, actualiza las ventas totales y agrega la compra al historial de cliente\n",
    "    def registrar_compra(self, nombre_cliente, carrito):\n",
    "        cliente = self.clientes.get(nombre_cliente)\n",
    "        if cliente:\n",
    "            total_compra = 0  \n",
    "            print(\"Registro de compra de:\", nombre_cliente)\n",
    "            print(\"Lista de productos comprados:\")\n",
    "            for producto, caracteristicas  in carrito.items():  \n",
    "                precio = caracteristicas[\"precio\"]\n",
    "                cantidad = caracteristicas[\"cantidad\"]\n",
    "                total_productos = precio * cantidad  \n",
    "                print(f\"Producto: {producto}, Cantidad: {cantidad}, Precio: ${precio}, Total: ${total_productos}\")\n",
    "                total_compra += total_productos  \n",
    "            self.ventas_totales += total_compra\n",
    "            print(\"Total de la compra:\", total_compra)\n",
    "            print(\"Compra registrada correctamente.\")\n",
    "            if \"historial_compras\" in cliente:\n",
    "                cliente[\"historial_compras\"].append({\"productos\": carrito,\"total_compra\": total_compra})\n",
    "            else:\n",
    "                cliente[\"historial_compras\"] = [{\"productos\": carrito,\"total_compra\": total_compra}]\n",
    "        else:\n",
    "            print(\"No es posible registrar compra, cliente no registrado.\")\n",
    "    #13)creo metodo para mostrar el historial de compras de un cliente\n",
    "    def ver_compras_cliente(self, nombre_cliente):\n",
    "        cliente = self.clientes.get(nombre_cliente)\n",
    "        if cliente:\n",
    "            historial_compras = cliente.get(\"historial_compras\", [])\n",
    "            if historial_compras:\n",
    "                print(f\"Historial de compras de {nombre_cliente}:\")\n",
    "                id = 1\n",
    "                for compra in historial_compras:\n",
    "                    print(f\"Compra {id}:\")\n",
    "                    print(\"Lista de productos comprados:\")\n",
    "                    for producto, detalles in compra[\"productos\"].items():\n",
    "                        precio = detalles[\"precio\"]\n",
    "                        cantidad = detalles[\"cantidad\"]\n",
    "                        total_producto = precio * cantidad\n",
    "                        print(f\"Producto: {producto}, Cantidad: {cantidad}, Precio por unidad: ${precio}, Total: ${total_producto}\")\n",
    "                        break    \n",
    "                print(\"Total de la compra:\", compra[\"total_compra\"])\n",
    "                id += 1\n",
    "            else:\n",
    "                 print(\"El cliente no tiene historial de compras.\")\n",
    "        else:\n",
    "            print(\"El cliente no está registrado en la tienda.\")\n",
    "\n",
    "    #14) creo método para calcular ventas totales\n",
    "    def calcular_ventas_totales(self):\n",
    "        ventas_totales = 0\n",
    "        for cliente in self.clientes.values():\n",
    "            historial_compras = cliente.get(\"historial_compras\",[])\n",
    "            for compra in historial_compras:\n",
    "                ventas_totales += compra[\"total_compra\"]\n",
    "        print(\"Ventas totales:\",ventas_totales)\n",
    "\n",
    "\n",
    "\n",
    "\n",
    "    \n",
    "                  \n",
    "                \n",
    "\n",
    "    \n",
    "\n",
    "        \n",
    "        "
   ]
  },
  {
   "cell_type": "code",
   "execution_count": 94,
   "metadata": {},
   "outputs": [
    {
     "name": "stdout",
     "output_type": "stream",
     "text": [
      "Nombre: camisa Precio: $ 20 Cantidad: 50\n",
      "Nombre: pantalon Precio: $ 30 Cantidad: 30\n",
      "Nombre: zapatos Precio: $ 20 Cantidad: 50\n"
     ]
    }
   ],
   "source": [
    "#comprobación de 1 y 2\n",
    "tienda = TiendaOnline()\n",
    "tienda.agregar_producto(\"camisa\",20,50)\n",
    "tienda.agregar_producto(\"pantalon\",30,30)\n",
    "tienda.agregar_producto(\"zapatos\",20,50)\n",
    "tienda.ver_inventario()\n",
    "\n",
    "\n"
   ]
  },
  {
   "cell_type": "code",
   "execution_count": null,
   "metadata": {},
   "outputs": [],
   "source": [
    "#comprobación del 3\n",
    "tienda.buscar_producto(\"camisa\")"
   ]
  },
  {
   "cell_type": "code",
   "execution_count": null,
   "metadata": {},
   "outputs": [],
   "source": [
    "#comprobación del 4\n",
    "tienda.actualizar_stock(\"camisa\",40)\n",
    "tienda.ver_inventario()"
   ]
  },
  {
   "cell_type": "code",
   "execution_count": null,
   "metadata": {},
   "outputs": [],
   "source": [
    "#comprobación del 5\n",
    "tienda.eliminar_producto(\"camisa\")\n",
    "tienda.ver_inventario()"
   ]
  },
  {
   "cell_type": "code",
   "execution_count": null,
   "metadata": {},
   "outputs": [],
   "source": [
    "#comprobación del 6\n",
    "tienda.agregar_producto(\"camisa\",20,50)\n",
    "tienda.calcular_valor_inventario()"
   ]
  },
  {
   "cell_type": "code",
   "execution_count": null,
   "metadata": {},
   "outputs": [],
   "source": [
    "#comprobación del 7\n",
    "tienda.buscar_producto_regex(\"cam\")"
   ]
  },
  {
   "cell_type": "code",
   "execution_count": 95,
   "metadata": {},
   "outputs": [
    {
     "name": "stdout",
     "output_type": "stream",
     "text": [
      "Productos:\n",
      "Nombre: camisa Precio: $ 20 Cantidad: 50\n",
      "Nombre: pantalon Precio: $ 30 Cantidad: 30\n",
      "Nombre: zapatos Precio: $ 20 Cantidad: 50\n",
      "Producto añadido al carrito.\n",
      "Producto añadido al carrito.\n",
      "Resumen de tu compra: \n",
      "Producto: camisa , Precio: $ 20 , Unidades: 2\n",
      "El precio de tu compra es :  130\n",
      "Producto: pantalon , Precio: $ 30 , Unidades: 3\n",
      "El precio de tu compra es :  130\n"
     ]
    },
    {
     "data": {
      "text/plain": [
       "130"
      ]
     },
     "execution_count": 95,
     "metadata": {},
     "output_type": "execute_result"
    }
   ],
   "source": [
    "#comprobación del 8\n",
    "tienda.realizar_compra()"
   ]
  },
  {
   "cell_type": "code",
   "execution_count": 98,
   "metadata": {},
   "outputs": [
    {
     "name": "stdout",
     "output_type": "stream",
     "text": [
      "Pago aceptado. Tu cambio es: $ 200.0\n"
     ]
    }
   ],
   "source": [
    "#comprobación del 9\n",
    "tienda.procesar_pago()"
   ]
  },
  {
   "cell_type": "code",
   "execution_count": 99,
   "metadata": {},
   "outputs": [
    {
     "name": "stdout",
     "output_type": "stream",
     "text": [
      "Nombre: juan Email: juan@gmail.com\n",
      "Nombre: juani Email: juani@gmail.com\n",
      "Registro de compra de: juan\n",
      "Lista de productos comprados:\n",
      "Producto: Camisa, Cantidad: 3, Precio: $20, Total: $60\n",
      "Total de la compra: 60\n",
      "Compra registrada correctamente.\n",
      "Historial de compras de juan:\n",
      "Compra 1:\n",
      "Lista de productos comprados:\n",
      "Producto: Camisa, Cantidad: 3, Precio por unidad: $20, Total: $60\n",
      "Total de la compra: 60\n",
      "Ventas totales: 60\n"
     ]
    }
   ],
   "source": [
    "#comprobación del 10,11,12,13 y 14\n",
    "tienda.agregar_clientes(\"juan\",\"juan@gmail.com\")\n",
    "\n",
    "tienda.clientes\n",
    "tienda.agregar_clientes(\"juani\",\"juani@gmail.com\")\n",
    "tienda.ver_clientes()\n",
    "carrito_juan = {\"Camisa\": {\"precio\": 20,\n",
    "\"cantidad\": 3}}\n",
    "\n",
    "tienda.registrar_compra(\"juan\",carrito_juan)\n",
    "\n",
    "tienda.ver_compras_cliente(\"juan\")\n",
    "\n",
    "tienda.calcular_ventas_totales()\n",
    "\n",
    "\n",
    "\n",
    "\n",
    "\n"
   ]
  }
 ],
 "metadata": {
  "kernelspec": {
   "display_name": "base",
   "language": "python",
   "name": "python3"
  },
  "language_info": {
   "codemirror_mode": {
    "name": "ipython",
    "version": 3
   },
   "file_extension": ".py",
   "mimetype": "text/x-python",
   "name": "python",
   "nbconvert_exporter": "python",
   "pygments_lexer": "ipython3",
   "version": "3.9.7"
  }
 },
 "nbformat": 4,
 "nbformat_minor": 2
}
