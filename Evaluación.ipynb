{
 "cells": [
  {
   "cell_type": "code",
   "execution_count": 13,
   "metadata": {},
   "outputs": [],
   "source": [
    "#creo una clase llamada TiendaOnline\n",
    "class TiendaOnline:\n",
    "    def __init__(self): #uso el metodo constructor para inicializar la clase con los atributos que se me piden.\n",
    "        self.inventario = [] #es una lista vacia para almacenar los productos en el inventario. Será una lista de diccionarios.\n",
    "        self.clientes = {}  #es un diccionario vacío que servirá para llevar un registro de los clientes.\n",
    "        self.ventas_totales = 0.0 #llevará el registro de las ventas totales de la tienda, es un decimal.\n",
    "    #1) creo método agregar_producto para agregar productos al inventario o actualizar su cantidad si ya existe.\n",
    "    def agregar_producto(self, nombre, precio, cantidad): #lo creo con los parametros nombre, precio y cantidad como se me pide.\n",
    "        for producto in self.inventario: #utilizo un bucle for para iterar por todos los productos del inventario.\n",
    "            producto[\"nombre\"] = producto[\"nombre\"].lower() #para lo compare todo en minusculas y no haya errores.\n",
    "            if producto[\"nombre\"] == nombre: #comparo si el nombre del producto que quiero agregar coincide con el nombre de algun producto que haya en el inventario.\n",
    "                producto[\"cantidad\"] += cantidad # si se encuentra el producto en el inventario, le agrega la nueva cantidad de producto a la ya existente en el inventario.\n",
    "                break #para salir del bucle cuando encuentre y actualice el producto.\n",
    "        else: #para en caso de que no exista el producto en el inventario.\n",
    "            nuevo_producto = {\"nombre\": nombre, \"precio\": precio, \"cantidad\": cantidad} #Se crea un nuevo diccionario con el nombre, precio y cantidad del nuevo producto.\n",
    "            self.inventario.append(nuevo_producto) #para añadir el nuevo diccionario a la lista de diccionarios que es el inventario.\n",
    "    #2) creo el metodo que permitirá visualizar el inventario y sus detalles.\n",
    "    def ver_inventario(self):\n",
    "        for producto in self.inventario: #recorro todos los productos del inventario\n",
    "            print(\"Nombre:\", producto[\"nombre\"], \"Precio: $\", producto[\"precio\"], \"Cantidad:\", producto[\"cantidad\"])#para mostrar en pantalla en nombre, precio y cantidad de los productos.\n",
    "    #3) creo el método que permitirá buscar un producto en el inventario y mostrar sus detalles si se encuentra, usamos el nombre del producto como parámetro.\n",
    "    def buscar_producto(self, nombre):\n",
    "        for producto in self.inventario: #usamos bucle for para recorrer todos los productos del inventario\n",
    "            producto[\"nombre\"] = producto[\"nombre\"].lower() #para que lo compare todo en minusculas y no haya errores.\n",
    "            if producto[\"nombre\"] == nombre: #usamos if para comprar si en nombre del producto que introducimos es igual al nombre del producto que esta en el inventario a través de su clave.\n",
    "                print(\"Nombre:\", producto[\"nombre\"], \", Precio: $\", producto[\"precio\"], \", Cantidad:\", producto[\"cantidad\"]) #para que se muestre en pantalla los detalles del producto si se encuentra.\n",
    "                break #para salir del bucle una vez encontrado el producto.\n",
    "        else: #para el caso de que no se encuentre el producto.\n",
    "            print(\"Este producto no se encuentra en el inventario.\") #para mostrar en pantalla el mensaje."
   ]
  },
  {
   "cell_type": "code",
   "execution_count": 14,
   "metadata": {},
   "outputs": [
    {
     "name": "stdout",
     "output_type": "stream",
     "text": [
      "Nombre: camisa , Precio: $ 20 , Cantidad: 40\n",
      "Este producto no se encuentra en el inventario.\n"
     ]
    }
   ],
   "source": [
    "tienda = TiendaOnline()\n",
    "tienda.agregar_producto('Camisa', 20, 40)\n",
    "tienda.agregar_producto('Pantalón', 30, 30)\n",
    "tienda.agregar_producto('Zapatos', 50, 40)\n",
    "tienda.buscar_producto(\"camisa\")\n",
    "tienda.buscar_producto(\"chaqueta\")\n",
    "# comprobación de que encuentra el producto o muestra mensaje en caso de no encontrarlo.\n",
    "\n"
   ]
  }
 ],
 "metadata": {
  "kernelspec": {
   "display_name": "base",
   "language": "python",
   "name": "python3"
  },
  "language_info": {
   "codemirror_mode": {
    "name": "ipython",
    "version": 3
   },
   "file_extension": ".py",
   "mimetype": "text/x-python",
   "name": "python",
   "nbconvert_exporter": "python",
   "pygments_lexer": "ipython3",
   "version": "3.9.7"
  }
 },
 "nbformat": 4,
 "nbformat_minor": 2
}
