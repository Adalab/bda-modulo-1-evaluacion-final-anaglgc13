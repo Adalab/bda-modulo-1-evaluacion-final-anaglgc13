{
 "cells": [
  {
   "cell_type": "code",
   "execution_count": 67,
   "metadata": {},
   "outputs": [],
   "source": [
    "#creo una clase llamada TiendaOnline\n",
    "class TiendaOnline:\n",
    "    def __init__(self): #uso el metodo constructor para inicializar la clase con los atributos que se me piden.\n",
    "        self.inventario = [] #es una lista vacia para almacenar los productos en el inventario. Será una lista de diccionarios.\n",
    "        self.clientes = {}  #es un diccionario vacío que servirá para llevar un registro de los clientes.\n",
    "        self.ventas_totales = 0.0 #llevará el registro de las ventas totales de la tienda, es un decimal.\n",
    "    #1) creo método agregar_producto para agregar productos al inventario o actualizar su cantidad si ya existe.\n",
    "    def agregar_producto(self, nombre, precio, cantidad): #lo creo con los parametros nombre, precio y cantidad como se me pide.\n",
    "        nombre = nombre.lower() #para que me convierta el parametro a minuscula y no tener problemas en la comparación.\n",
    "        for producto in self.inventario: #utilizo un bucle for para iterar por todos los productos del inventario.\n",
    "            if producto[\"nombre\"] == nombre: #comparo si el nombre del producto que quiero agregar coincide con el nombre de algun producto que haya en el inventario.\n",
    "                producto[\"cantidad\"] += cantidad # si se encuentra el producto en el inventario, le agrega la nueva cantidad de producto a la ya existente en el inventario.\n",
    "                break #para salir del bucle cuando encuentre y actualice el producto.\n",
    "        else: #para en caso de que no exista el producto en el inventario.\n",
    "            nuevo_producto = {\"nombre\": nombre, \"precio\": precio, \"cantidad\": cantidad} #Se crea un nuevo diccionario con el nombre, precio y cantidad del nuevo producto.\n",
    "            self.inventario.append(nuevo_producto) #para añadir el nuevo diccionario a la lista de diccionarios que es el inventario.\n",
    "    #2) creo el metodo que permitirá visualizar el inventario y sus detalles.\n",
    "    def ver_inventario(self):\n",
    "        for producto in self.inventario: #recorro todos los productos del inventario\n",
    "            print(\"Nombre:\", producto[\"nombre\"], \"Precio: $\", producto[\"precio\"], \"Cantidad:\", producto[\"cantidad\"])#para mostrar en pantalla en nombre, precio y cantidad de los productos.\n",
    "    #3) creo el método que permitirá buscar un producto en el inventario y mostrar sus detalles si se encuentra, usamos el nombre del producto como parámetro.\n",
    "    def buscar_producto(self, nombre):\n",
    "        nombre = nombre.lower() #para que me convierta el parametro a minuscula y no tener problemas en la comparación.\n",
    "        for producto in self.inventario: #uso bucle for para recorrer todos los productos del inventario\n",
    "            if producto[\"nombre\"] == nombre: #uso if para comprar si en nombre del producto que introducimos es igual al nombre del producto que esta en el inventario a través de su clave.\n",
    "                print(\"Nombre:\", producto[\"nombre\"], \", Precio: $\", producto[\"precio\"], \", Cantidad:\", producto[\"cantidad\"]) #para que se muestre en pantalla los detalles del producto si se encuentra.\n",
    "                break #para salir del bucle una vez encontrado el producto.\n",
    "        else: #para el caso de que no se encuentre el producto.\n",
    "            print(\"Este producto no se encuentra en el inventario.\") #para mostrar en pantalla el mensaje.\n",
    "    #4) creo el método que permitirá actualizar el stock de un producto en el inventario.\n",
    "    def actualizar_stock(self, nombre, cantidad):\n",
    "        nombre = nombre.lower() #para que me convierta el parametro a minuscula y no tener problemas en la comparación.\n",
    "        for producto in self.inventario: #para recorrer todo el inventario\n",
    "            if producto[\"nombre\"] == nombre: #uso if para comparar si en nombre del producto que introducimos es igual al nombre del producto que esta en el inventario.\n",
    "                producto[\"cantidad\"] += cantidad #si el producto esta en el inventario, le agrega la cantidad adicional. \n",
    "                print(\"Stock actualizado para el producto\", nombre, \"en el inventario.\") #para mostrar en pantalla el mensaje de que ha quedado actualizada la cantidad en inventario.\n",
    "                break #para salir del bucle una vez actualizado el stock.\n",
    "        else: #en caso de no encontrar el producto.\n",
    "            print(\"Producto no encontrado en el inventario.\") #para mostrar el mensaje de que no se ha encontrado.\n",
    "    #5) Creo metodo para eliminar un producto del inventario por su nombre.\n",
    "    def eliminar_producto(self, nombre):\n",
    "        nombre = nombre.lower() #para que me convierta el parametro a minuscula y no tener problemas en la comparación.\n",
    "        for producto in self.inventario: #para recorrer todo el inventario\n",
    "            if producto[\"nombre\"] == nombre: #uso if para comparar si en nombre del producto que introducimos es igual al nombre del producto que esta en el inventario.\n",
    "                self.inventario.remove(producto) # uso metodo remove para eliminar el producto de la lista inventario.\n",
    "                print(\"El producto\", nombre, \" ha sido eliminado del inventario.\") #para mostrar mensaje en pantalla de que el producto ha sido eliminado.\n",
    "                break #para salir del bucle una vez eliminado el producto.\n",
    "        else: #en caso de no encontrar el producto que queremos eliminar.\n",
    "            print(\"Producto no encontrado en el inventario.\") #para mostrar el mensaje en pantalla.\n",
    "    #6) creo metodo para calcular el valor total del inventario   \n",
    "    def calcular_valor_inventario(self):\n",
    "        valor_total = 0 #creo la variable valor_total y la inicio en 0 para poder ir sumandole los importes.\n",
    "        for producto in self.inventario: #para iterar por cada producto dentro del inventario.\n",
    "            valor_total += producto[\"precio\"] * producto[\"cantidad\"] #para sumar a la variable valor_total el resultado de multiplicar el precio de cada producto por su cantidad.\n",
    "        print(\"El valor total del inventario es: $\", valor_total)  #para mostrar en pantalla el valor total del inventario.\n",
    "    #7) creo el método que busca productos en el inventario que coincidan con un patrón de búsqueda en formato regex en el nombre y muestra los resultados.\n",
    "    def buscar_producto_regex(self, patron):\n",
    "        productos_encontrados = [] #creo lista vacía a la que se irán añadiendo los productos encontrados.\n",
    "        patron = patron.lower() #paso patron a minuscula para no tener errores en las coincidencias.\n",
    "        for producto in self.inventario: #para iterar por cada producto del inventario.\n",
    "            if patron in producto[\"nombre\"]: #para comprobar si el patron está dentro del nombre del producto.\n",
    "                productos_encontrados.append(producto) #para agregar el producto a la lista si hay coincidencia con el patron.\n",
    "        if productos_encontrados: #condicional para que si se encuentran productos me imprima el mensaje que se me pide.\n",
    "            print(\"Se han encontrado productos que coinciden con el patrón:\", patron)\n",
    "            for producto in productos_encontrados: #para iterar por cada producto encontrado y que se muestre en pantalla los detalles de cada producto encontrado.\n",
    "                print(\"Nombre:\", producto[\"nombre\"], \", Precio: $\", producto[\"precio\"], \", Cantidad:\", producto[\"cantidad\"])\n",
    "        else: #para que se muestre el mensaje que se me pide si no se encuentran coincidencias\n",
    "            print(\"No se han encontrado productos que coincidan con el patrón:\", patron)\n",
    "    \n",
    "    #8) creo el método que permite a un cliente realizar una compra seleccionando productos del inventario.\n",
    "    def realizar_compra(self):\n",
    "        carrito = []\n",
    "        continuar_comprando = True\n",
    "        total_compra = 0\n",
    "        print(\"Productos:\")\n",
    "        self.ver_inventario()\n",
    "        while continuar_comprando:\n",
    "            nombre_producto = input(\"Introduce el nombre del producto que quieres comprar:  (para terminar la compra introduce Finalizar)\").lower()\n",
    "            if \"finalizar\" == nombre_producto:\n",
    "                     print(\"Resumen de tu compra: \")\n",
    "                     for producto in carrito:\n",
    "                         print(\"Producto:\" ,producto['nombre'],\"$\", producto['cantidad'], \"Unidades:\", producto['precio'])\n",
    "                         \n",
    "                     print(\"El precio de tu compra es : \",total_compra)\n",
    "                     continuar_comprando = False\n",
    "                     break\n",
    "            \n",
    "            for producto in self.inventario:\n",
    "                if  producto[\"nombre\"] == nombre_producto:\n",
    "                    \n",
    "                    cantidad = int(input(\"Introduce el numero de unidades que quieres comprar: \"))\n",
    "                    if cantidad <= producto[\"cantidad\"]:\n",
    "                      producto_en_carrito = producto.copy()\n",
    "                      producto_en_carrito[\"cantidad\"] = cantidad\n",
    "                      carrito.append(producto_en_carrito)\n",
    "                      producto['cantidad'] -= cantidad \n",
    "                     \n",
    "                      print(\"Producto añadido al carrito.\")\n",
    "                      total_compra += producto['precio'] * cantidad\n",
    "                    \n",
    "                    else:\n",
    "                        print(\"No hay suficiente stock disponible para el producto seleccionado.\")\n",
    "                    break\n",
    "        return total_compra\n",
    "                \n",
    "                \n",
    "                \n",
    "\n",
    "    \n",
    "\n",
    "        \n",
    "        "
   ]
  },
  {
   "cell_type": "code",
   "execution_count": 68,
   "metadata": {},
   "outputs": [
    {
     "name": "stdout",
     "output_type": "stream",
     "text": [
      "Productos:\n",
      "Nombre: camisa Precio: $ 20 Cantidad: 40\n",
      "Nombre: pantalon Precio: $ 30 Cantidad: 30\n",
      "Nombre: zapatos Precio: $ 50 Cantidad: 40\n",
      "Nombre: cazadora Precio: $ 20 Cantidad: 40\n",
      "Producto añadido al carrito.\n",
      "Producto añadido al carrito.\n",
      "Resumen de tu compra: \n",
      "Producto: camisa $ 2 Unidades: 20\n",
      "Producto: pantalon $ 3 Unidades: 30\n",
      "El precio de tu compra es :  130\n"
     ]
    },
    {
     "data": {
      "text/plain": [
       "130"
      ]
     },
     "execution_count": 68,
     "metadata": {},
     "output_type": "execute_result"
    }
   ],
   "source": [
    "tienda = TiendaOnline()\n",
    "tienda.agregar_producto('Camisa', 20, 40)\n",
    "tienda.agregar_producto('Pantalon', 30, 30)\n",
    "tienda.agregar_producto('Zapatos', 50, 40)\n",
    "tienda.agregar_producto('Cazadora', 20, 40)\n",
    "tienda.realizar_compra()\n",
    "\n",
    "\n",
    "\n",
    "\n",
    "#compruebo que suma correctamente al carrito y resta del inventario.\n",
    "\n"
   ]
  },
  {
   "cell_type": "code",
   "execution_count": 69,
   "metadata": {},
   "outputs": [
    {
     "name": "stdout",
     "output_type": "stream",
     "text": [
      "Nombre: camisa Precio: $ 20 Cantidad: 38\n",
      "Nombre: pantalon Precio: $ 30 Cantidad: 27\n",
      "Nombre: zapatos Precio: $ 50 Cantidad: 40\n",
      "Nombre: cazadora Precio: $ 20 Cantidad: 40\n"
     ]
    }
   ],
   "source": [
    "tienda.ver_inventario()"
   ]
  },
  {
   "cell_type": "code",
   "execution_count": null,
   "metadata": {},
   "outputs": [],
   "source": []
  }
 ],
 "metadata": {
  "kernelspec": {
   "display_name": "base",
   "language": "python",
   "name": "python3"
  },
  "language_info": {
   "codemirror_mode": {
    "name": "ipython",
    "version": 3
   },
   "file_extension": ".py",
   "mimetype": "text/x-python",
   "name": "python",
   "nbconvert_exporter": "python",
   "pygments_lexer": "ipython3",
   "version": "3.9.7"
  }
 },
 "nbformat": 4,
 "nbformat_minor": 2
}
