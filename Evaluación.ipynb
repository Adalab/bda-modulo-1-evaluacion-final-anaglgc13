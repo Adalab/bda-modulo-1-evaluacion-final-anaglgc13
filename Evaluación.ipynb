{
 "cells": [
  {
   "cell_type": "code",
   "execution_count": null,
   "metadata": {},
   "outputs": [],
   "source": [
    "#creo una clase llamada TiendaOnline\n",
    "class TiendaOnline:\n",
    "    def __init__(self): #uso el metodo constructor para inicializar la clase con los atributos que se me piden.\n",
    "        self.inventario = [] #es una lista vacia para almacenar los productos en el inventario. Será una lista de diccionarios.\n",
    "        self.clientes = {}  #es un diccionario vacío que servirá para llevar un registro de los clientes.\n",
    "        self.ventas_totales = 0.0 #llevará el registro de las ventas totales de la tienda, es un decimal.\n",
    "    #1) creo método agregar_producto para agregar productos al inventario o actualizar su cantidad si ya existe.\n",
    "    def agregar_producto(self, nombre, precio, cantidad): #lo creo con los parametros nombre, precio y cantidad como se me pide.\n",
    "        nombre = nombre.lower() #para que me convierta el parametro a minuscula y no tener problemas en la comparación.\n",
    "        for producto in self.inventario: #utilizo un bucle for para iterar por todos los productos del inventario.\n",
    "            if producto[\"nombre\"] == nombre: #comparo si el nombre del producto que quiero agregar coincide con el nombre de algun producto que haya en el inventario.\n",
    "                producto[\"cantidad\"] += cantidad # si se encuentra el producto en el inventario, le agrega la nueva cantidad de producto a la ya existente en el inventario.\n",
    "                break #para salir del bucle cuando encuentre y actualice el producto.\n",
    "        else: #para en caso de que no exista el producto en el inventario.\n",
    "            nuevo_producto = {\"nombre\": nombre, \"precio\": precio, \"cantidad\": cantidad} #Se crea un nuevo diccionario con el nombre, precio y cantidad del nuevo producto.\n",
    "            self.inventario.append(nuevo_producto) #para añadir el nuevo diccionario a la lista de diccionarios que es el inventario.\n",
    "    #2) creo el metodo que permitirá visualizar el inventario y sus detalles.\n",
    "    def ver_inventario(self):\n",
    "        for producto in self.inventario: #recorro todos los productos del inventario\n",
    "            print(\"Nombre:\", producto[\"nombre\"], \"Precio: $\", producto[\"precio\"], \"Cantidad:\", producto[\"cantidad\"])#para mostrar en pantalla en nombre, precio y cantidad de los productos.\n",
    "    #3) creo el método que permitirá buscar un producto en el inventario y mostrar sus detalles si se encuentra, usamos el nombre del producto como parámetro.\n",
    "    def buscar_producto(self, nombre):\n",
    "        nombre = nombre.lower() #para que me convierta el parametro a minuscula y no tener problemas en la comparación.\n",
    "        for producto in self.inventario: #usamos bucle for para recorrer todos los productos del inventario\n",
    "            if producto[\"nombre\"] == nombre: #usamos if para comprar si en nombre del producto que introducimos es igual al nombre del producto que esta en el inventario a través de su clave.\n",
    "                print(\"Nombre:\", producto[\"nombre\"], \", Precio: $\", producto[\"precio\"], \", Cantidad:\", producto[\"cantidad\"]) #para que se muestre en pantalla los detalles del producto si se encuentra.\n",
    "                break #para salir del bucle una vez encontrado el producto.\n",
    "        else: #para el caso de que no se encuentre el producto.\n",
    "            print(\"Este producto no se encuentra en el inventario.\") #para mostrar en pantalla el mensaje.\n",
    "    #4) creo el método que permitirá actualizar el stock de un producto en el inventario.\n",
    "    def actualizar_stock(self, nombre, cantidad):\n",
    "        nombre = nombre.lower() #para que me convierta el parametro a minuscula y no tener problemas en la comparación.\n",
    "        for producto in self.inventario: #para recorrer todo el inventario\n",
    "            if producto['nombre'] == nombre: #usamos if para comparar si en nombre del producto que introducimos es igual al nombre del producto que esta en el inventario.\n",
    "                producto['cantidad'] += cantidad #si el producto esta en el inventario, le agrega la cantidad adicional. \n",
    "                print(\"Stock actualizado para el producto\", nombre) #para mostrar en pantalla el mensaje de que ha quedado actualizada la cantidad en inventario.\n",
    "                break #para salir del bucle una vez actualizado el stock.\n",
    "        else: #en caso de no encontrar el producto.\n",
    "            print(\"Producto no encontrado en el inventario.\") #para mostrar el mensaje de que no se ha encontrado.\n",
    "    "
   ]
  },
  {
   "cell_type": "code",
   "execution_count": 20,
   "metadata": {},
   "outputs": [
    {
     "name": "stdout",
     "output_type": "stream",
     "text": [
      "Stock actualizado para el producto camisa\n",
      "Nombre: camisa Precio: $ 20 Cantidad: 80\n",
      "Nombre: pantalón Precio: $ 30 Cantidad: 30\n",
      "Nombre: zapatos Precio: $ 50 Cantidad: 40\n"
     ]
    }
   ],
   "source": [
    "tienda = TiendaOnline()\n",
    "tienda.agregar_producto('Camisa', 20, 40)\n",
    "tienda.agregar_producto('Pantalón', 30, 30)\n",
    "tienda.agregar_producto('Zapatos', 50, 40)\n",
    "tienda.actualizar_stock(\"camisa\",40)\n",
    "tienda.ver_inventario()\n",
    "\n",
    "#comprobación de que actualiza correctamente es stock.\n",
    "\n"
   ]
  }
 ],
 "metadata": {
  "kernelspec": {
   "display_name": "base",
   "language": "python",
   "name": "python3"
  },
  "language_info": {
   "codemirror_mode": {
    "name": "ipython",
    "version": 3
   },
   "file_extension": ".py",
   "mimetype": "text/x-python",
   "name": "python",
   "nbconvert_exporter": "python",
   "pygments_lexer": "ipython3",
   "version": "3.9.7"
  }
 },
 "nbformat": 4,
 "nbformat_minor": 2
}
